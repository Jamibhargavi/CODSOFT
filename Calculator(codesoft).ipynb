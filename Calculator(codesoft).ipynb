{
  "nbformat": 4,
  "nbformat_minor": 0,
  "metadata": {
    "colab": {
      "provenance": [],
      "authorship_tag": "ABX9TyM/vc4OKRzk+klue5y0NnOC",
      "include_colab_link": true
    },
    "kernelspec": {
      "name": "python3",
      "display_name": "Python 3"
    },
    "language_info": {
      "name": "python"
    }
  },
  "cells": [
    {
      "cell_type": "markdown",
      "metadata": {
        "id": "view-in-github",
        "colab_type": "text"
      },
      "source": [
        "<a href=\"https://colab.research.google.com/github/Jamibhargavi/CODSOFT/blob/main/Calculator(codesoft).ipynb\" target=\"_parent\"><img src=\"https://colab.research.google.com/assets/colab-badge.svg\" alt=\"Open In Colab\"/></a>"
      ]
    },
    {
      "cell_type": "code",
      "execution_count": null,
      "metadata": {
        "colab": {
          "base_uri": "https://localhost:8080/"
        },
        "id": "tLVScQJjBrMW",
        "outputId": "d2c04ae4-967d-4df6-e18e-bf661dfc242e"
      },
      "outputs": [
        {
          "metadata": {
            "tags": null
          },
          "name": "stdout",
          "output_type": "stream",
          "text": [
            "Enter '1' for addition\n",
            "Enter '2' for subtraction\n",
            "Enter '3' for multiplication\n",
            "Enter '4' for division\n",
            "Enter '5' for average\n",
            "Enter '-1' to exit.\n",
            "\n",
            "The answer is 23\n",
            "Enter '1' for addition\n",
            "Enter '2' for subtraction\n",
            "Enter '3' for multiplication\n",
            "Enter '4' for division\n",
            "Enter '5' for average\n",
            "Enter '-1' to exit.\n",
            "\n"
          ]
        },
        {
          "output_type": "error",
          "ename": "KeyboardInterrupt",
          "evalue": "ignored",
          "traceback": [
            "\u001b[0;31m---------------------------------------------------------------------------\u001b[0m",
            "\u001b[0;31mKeyboardInterrupt\u001b[0m                         Traceback (most recent call last)",
            "\u001b[0;32m<ipython-input-3-df3c13311c86>\u001b[0m in \u001b[0;36m<cell line: 38>\u001b[0;34m()\u001b[0m\n\u001b[1;32m     44\u001b[0m     \u001b[0mprint\u001b[0m\u001b[0;34m(\u001b[0m\u001b[0;34m\"Enter '-1' to exit.\\n\"\u001b[0m\u001b[0;34m)\u001b[0m\u001b[0;34m\u001b[0m\u001b[0;34m\u001b[0m\u001b[0m\n\u001b[1;32m     45\u001b[0m \u001b[0;34m\u001b[0m\u001b[0m\n\u001b[0;32m---> 46\u001b[0;31m     \u001b[0mc\u001b[0m \u001b[0;34m=\u001b[0m \u001b[0minput\u001b[0m\u001b[0;34m(\u001b[0m\u001b[0;34m\"Your choice is: \"\u001b[0m\u001b[0;34m)\u001b[0m\u001b[0;34m\u001b[0m\u001b[0;34m\u001b[0m\u001b[0m\n\u001b[0m\u001b[1;32m     47\u001b[0m \u001b[0;34m\u001b[0m\u001b[0m\n\u001b[1;32m     48\u001b[0m     \u001b[0;32mif\u001b[0m \u001b[0mc\u001b[0m \u001b[0;34m==\u001b[0m \u001b[0;34m\"1\"\u001b[0m\u001b[0;34m:\u001b[0m\u001b[0;34m\u001b[0m\u001b[0;34m\u001b[0m\u001b[0m\n",
            "\u001b[0;32m/usr/local/lib/python3.10/dist-packages/ipykernel/kernelbase.py\u001b[0m in \u001b[0;36mraw_input\u001b[0;34m(self, prompt)\u001b[0m\n\u001b[1;32m    849\u001b[0m                 \u001b[0;34m\"raw_input was called, but this frontend does not support input requests.\"\u001b[0m\u001b[0;34m\u001b[0m\u001b[0;34m\u001b[0m\u001b[0m\n\u001b[1;32m    850\u001b[0m             )\n\u001b[0;32m--> 851\u001b[0;31m         return self._input_request(str(prompt),\n\u001b[0m\u001b[1;32m    852\u001b[0m             \u001b[0mself\u001b[0m\u001b[0;34m.\u001b[0m\u001b[0m_parent_ident\u001b[0m\u001b[0;34m,\u001b[0m\u001b[0;34m\u001b[0m\u001b[0;34m\u001b[0m\u001b[0m\n\u001b[1;32m    853\u001b[0m             \u001b[0mself\u001b[0m\u001b[0;34m.\u001b[0m\u001b[0m_parent_header\u001b[0m\u001b[0;34m,\u001b[0m\u001b[0;34m\u001b[0m\u001b[0;34m\u001b[0m\u001b[0m\n",
            "\u001b[0;32m/usr/local/lib/python3.10/dist-packages/ipykernel/kernelbase.py\u001b[0m in \u001b[0;36m_input_request\u001b[0;34m(self, prompt, ident, parent, password)\u001b[0m\n\u001b[1;32m    893\u001b[0m             \u001b[0;32mexcept\u001b[0m \u001b[0mKeyboardInterrupt\u001b[0m\u001b[0;34m:\u001b[0m\u001b[0;34m\u001b[0m\u001b[0;34m\u001b[0m\u001b[0m\n\u001b[1;32m    894\u001b[0m                 \u001b[0;31m# re-raise KeyboardInterrupt, to truncate traceback\u001b[0m\u001b[0;34m\u001b[0m\u001b[0;34m\u001b[0m\u001b[0m\n\u001b[0;32m--> 895\u001b[0;31m                 \u001b[0;32mraise\u001b[0m \u001b[0mKeyboardInterrupt\u001b[0m\u001b[0;34m(\u001b[0m\u001b[0;34m\"Interrupted by user\"\u001b[0m\u001b[0;34m)\u001b[0m \u001b[0;32mfrom\u001b[0m \u001b[0;32mNone\u001b[0m\u001b[0;34m\u001b[0m\u001b[0;34m\u001b[0m\u001b[0m\n\u001b[0m\u001b[1;32m    896\u001b[0m             \u001b[0;32mexcept\u001b[0m \u001b[0mException\u001b[0m \u001b[0;32mas\u001b[0m \u001b[0me\u001b[0m\u001b[0;34m:\u001b[0m\u001b[0;34m\u001b[0m\u001b[0;34m\u001b[0m\u001b[0m\n\u001b[1;32m    897\u001b[0m                 \u001b[0mself\u001b[0m\u001b[0;34m.\u001b[0m\u001b[0mlog\u001b[0m\u001b[0;34m.\u001b[0m\u001b[0mwarning\u001b[0m\u001b[0;34m(\u001b[0m\u001b[0;34m\"Invalid Message:\"\u001b[0m\u001b[0;34m,\u001b[0m \u001b[0mexc_info\u001b[0m\u001b[0;34m=\u001b[0m\u001b[0;32mTrue\u001b[0m\u001b[0;34m)\u001b[0m\u001b[0;34m\u001b[0m\u001b[0;34m\u001b[0m\u001b[0m\n",
            "\u001b[0;31mKeyboardInterrupt\u001b[0m: Interrupted by user"
          ]
        }
      ],
      "source": [
        "import os\n",
        "import time\n",
        "\n",
        "\n",
        "def addition():\n",
        "    nums = list(map(int, input(\"Enter all numbers seperated by space: \").split()))\n",
        "    return sum(nums)\n",
        "\n",
        "\n",
        "def subtraction():\n",
        "    n1 = float(input(\"Enter first number: \"))\n",
        "    n2 = float(input(\"Enter second number: \"))\n",
        "\n",
        "    return n1 - n2\n",
        "\n",
        "\n",
        "def multiplication():\n",
        "    nums = list(map(int, input(\"Enter all numbers seperated by space: \").split()))\n",
        "    res = 1\n",
        "    for num in nums:\n",
        "        res *= num\n",
        "    return res\n",
        "\n",
        "\n",
        "def division():\n",
        "    n1 = float(input(\"Enter first number: \"))\n",
        "    n2 = float(input(\"Enter second number: \"))\n",
        "\n",
        "    return n1 / n2\n",
        "\n",
        "\n",
        "def average():\n",
        "    nums = list(map(int, input(\"Enter all numbers seperated by space: \").split()))\n",
        "    return sum(nums) / len(nums)\n",
        "\n",
        "\n",
        "c = 0\n",
        "while c != \"-1\":\n",
        "    print(\"Enter '1' for addition\")\n",
        "    print(\"Enter '2' for subtraction\")\n",
        "    print(\"Enter '3' for multiplication\")\n",
        "    print(\"Enter '4' for division\")\n",
        "    print(\"Enter '5' for average\")\n",
        "    print(\"Enter '-1' to exit.\\n\")\n",
        "\n",
        "    c = input(\"Your choice is: \")\n",
        "\n",
        "    if c == \"1\":\n",
        "        res = addition()\n",
        "        os.system(\"cls\")\n",
        "        print(f\"The answer is {res}\")\n",
        "        time.sleep(2)\n",
        "        os.system(\"cls\")\n",
        "\n",
        "    elif c == \"2\":\n",
        "        res = subtraction()\n",
        "        os.system(\"cls\")\n",
        "        print(f\"The answer is {res}\")\n",
        "        time.sleep(2)\n",
        "        os.system(\"cls\")\n",
        "\n",
        "    elif c == \"3\":\n",
        "        res = multiplication()\n",
        "        os.system(\"cls\")\n",
        "        print(f\"The answer is {res}\")\n",
        "        time.sleep(2)\n",
        "        os.system(\"cls\")\n",
        "\n",
        "    elif c == \"4\":\n",
        "        res = division()\n",
        "        os.system(\"cls\")\n",
        "        print(f\"The answer is {res}\")\n",
        "        time.sleep(2)\n",
        "        os.system(\"cls\")\n",
        "\n",
        "    elif c == \"5\":\n",
        "        res = average()\n",
        "        os.system(\"cls\")\n",
        "        print(f\"The answer is {res}\")\n",
        "        time.sleep(2)\n",
        "        os.system(\"cls\")\n",
        "\n",
        "    elif c == \"-1\":\n",
        "        os.system(\"cls\")\n",
        "        print(\"Thank you for using the calculator!\")\n",
        "        time.sleep(2)\n",
        "        break\n",
        "\n",
        "    else:\n",
        "        os.system(\"cls\")\n",
        "        print(\"Sorry, invalid option!\")\n",
        "        time.sleep(2)\n",
        "        os.system(\"cls\")\n",
        "\n",
        "\n",
        "\n",
        "\n"
      ]
    }
  ]
}