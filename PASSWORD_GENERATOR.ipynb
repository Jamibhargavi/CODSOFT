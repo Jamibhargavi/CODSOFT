{
  "nbformat": 4,
  "nbformat_minor": 0,
  "metadata": {
    "colab": {
      "provenance": [],
      "authorship_tag": "ABX9TyMc5Jfh4x5cYc5zf+WH2Sqp",
      "include_colab_link": true
    },
    "kernelspec": {
      "name": "python3",
      "display_name": "Python 3"
    },
    "language_info": {
      "name": "python"
    }
  },
  "cells": [
    {
      "cell_type": "markdown",
      "metadata": {
        "id": "view-in-github",
        "colab_type": "text"
      },
      "source": [
        "<a href=\"https://colab.research.google.com/github/Jamibhargavi/CODSOFT/blob/main/PASSWORD_GENERATOR.ipynb\" target=\"_parent\"><img src=\"https://colab.research.google.com/assets/colab-badge.svg\" alt=\"Open In Colab\"/></a>"
      ]
    },
    {
      "cell_type": "code",
      "execution_count": null,
      "metadata": {
        "id": "g0eSoNibRLfU"
      },
      "outputs": [],
      "source": [
        "import random\n",
        "import string\n",
        "\n",
        "\n",
        "def main():\n",
        "    print(\"_____________________________________\")\n",
        "    print(\"| Welcome to this Password Generator |\")\n",
        "    print(\"-------------------------------------\\n\")\n",
        "    try:\n",
        "        length = int(\n",
        "            input(\"how long do you want your password to be (minimum of 8 number)\")\n",
        "        )\n",
        "    except:\n",
        "        print(\"Input numners only\")\n",
        "    password_length = 0\n",
        "    while password_length < length:\n",
        "        print(\"Your password must have at least 8 characters\")\n",
        "        password_length = getPasswordLength()\n",
        "\n",
        "    all_characters = getCharacters()\n",
        "    password = generatePassword(all_characters, password_length)\n",
        "    print(\"\\nYour password is: \" + password)\n",
        "    print(\"__________________________________________\")\n",
        "    print(\"| Thanks for using the Password Generator |\")\n",
        "    print(\"------------------------------------------\")\n",
        "\n",
        "\n",
        "def getPasswordLength():\n",
        "    # Set the password length with constraints for the password length\n",
        "    password_length = int(input(\"\\nEnter the length of password: \"))\n",
        "    return password_length\n",
        "\n",
        "\n",
        "def getCharacters():\n",
        "    # define the characters\n",
        "    lower = string.ascii_lowercase\n",
        "    upper = string.ascii_uppercase\n",
        "    num = string.digits\n",
        "    symbols = string.punctuation\n",
        "\n",
        "    all_characters = lower + upper + num + symbols\n",
        "    return all_characters\n",
        "\n",
        "\n",
        "def generatePassword(all_characters, password_length):\n",
        "    # generate a password string\n",
        "    password = \"\".join(random.sample(all_characters, password_length))\n",
        "    return password\n",
        "\n",
        "\n",
        "main()"
      ]
    }
  ]
}