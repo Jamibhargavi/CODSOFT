{
  "cells": [
    {
      "cell_type": "markdown",
      "metadata": {
        "id": "view-in-github",
        "colab_type": "text"
      },
      "source": [
        "<a href=\"https://colab.research.google.com/github/Jamibhargavi/CODSOFT/blob/main/TO_DO_LIST.ipynb\" target=\"_parent\"><img src=\"https://colab.research.google.com/assets/colab-badge.svg\" alt=\"Open In Colab\"/></a>"
      ]
    },
    {
      "cell_type": "code",
      "execution_count": null,
      "metadata": {
        "colab": {
          "background_save": true,
          "base_uri": "https://localhost:8080/"
        },
        "id": "zILMltsrPxHI",
        "outputId": "68d438f4-b8fb-4216-d0e0-20457e066d78"
      },
      "outputs": [
        {
          "name": "stdout",
          "output_type": "stream",
          "text": [
            "Welcome to ToDo List!\n"
          ]
        },
        {
          "ename": "KeyboardInterrupt",
          "evalue": "ignored",
          "output_type": "error",
          "traceback": [
            "\u001b[0;31m---------------------------------------------------------------------------\u001b[0m",
            "\u001b[0;31mKeyboardInterrupt\u001b[0m                         Traceback (most recent call last)",
            "\u001b[0;32m<ipython-input-2-ac418e95b722>\u001b[0m in \u001b[0;36m<cell line: 41>\u001b[0;34m()\u001b[0m\n\u001b[1;32m     50\u001b[0m \u001b[0;34m\u001b[0m\u001b[0m\n\u001b[1;32m     51\u001b[0m     \u001b[0;32mwhile\u001b[0m \u001b[0;32mTrue\u001b[0m\u001b[0;34m:\u001b[0m\u001b[0;34m\u001b[0m\u001b[0;34m\u001b[0m\u001b[0m\n\u001b[0;32m---> 52\u001b[0;31m         \u001b[0muser_choice\u001b[0m \u001b[0;34m=\u001b[0m \u001b[0mget_choice\u001b[0m\u001b[0;34m(\u001b[0m\u001b[0;34m)\u001b[0m\u001b[0;34m\u001b[0m\u001b[0;34m\u001b[0m\u001b[0m\n\u001b[0m\u001b[1;32m     53\u001b[0m \u001b[0;34m\u001b[0m\u001b[0m\n\u001b[1;32m     54\u001b[0m         \u001b[0;31m# Adding a task\u001b[0m\u001b[0;34m\u001b[0m\u001b[0;34m\u001b[0m\u001b[0m\n",
            "\u001b[0;32m<ipython-input-2-ac418e95b722>\u001b[0m in \u001b[0;36mget_choice\u001b[0;34m()\u001b[0m\n\u001b[1;32m     27\u001b[0m         \u001b[0;32mtry\u001b[0m\u001b[0;34m:\u001b[0m\u001b[0;34m\u001b[0m\u001b[0;34m\u001b[0m\u001b[0m\n\u001b[1;32m     28\u001b[0m             choice = int(\n\u001b[0;32m---> 29\u001b[0;31m                 input(\n\u001b[0m\u001b[1;32m     30\u001b[0m                     \u001b[0;34m\"Type a number: 1. Adding a task, 2. Removing a task, 3. Displaying tasks, 4. Quit: \"\u001b[0m\u001b[0;34m\u001b[0m\u001b[0;34m\u001b[0m\u001b[0m\n\u001b[1;32m     31\u001b[0m                 )\n",
            "\u001b[0;32m/usr/local/lib/python3.10/dist-packages/ipykernel/kernelbase.py\u001b[0m in \u001b[0;36mraw_input\u001b[0;34m(self, prompt)\u001b[0m\n\u001b[1;32m    849\u001b[0m                 \u001b[0;34m\"raw_input was called, but this frontend does not support input requests.\"\u001b[0m\u001b[0;34m\u001b[0m\u001b[0;34m\u001b[0m\u001b[0m\n\u001b[1;32m    850\u001b[0m             )\n\u001b[0;32m--> 851\u001b[0;31m         return self._input_request(str(prompt),\n\u001b[0m\u001b[1;32m    852\u001b[0m             \u001b[0mself\u001b[0m\u001b[0;34m.\u001b[0m\u001b[0m_parent_ident\u001b[0m\u001b[0;34m,\u001b[0m\u001b[0;34m\u001b[0m\u001b[0;34m\u001b[0m\u001b[0m\n\u001b[1;32m    853\u001b[0m             \u001b[0mself\u001b[0m\u001b[0;34m.\u001b[0m\u001b[0m_parent_header\u001b[0m\u001b[0;34m,\u001b[0m\u001b[0;34m\u001b[0m\u001b[0;34m\u001b[0m\u001b[0m\n",
            "\u001b[0;32m/usr/local/lib/python3.10/dist-packages/ipykernel/kernelbase.py\u001b[0m in \u001b[0;36m_input_request\u001b[0;34m(self, prompt, ident, parent, password)\u001b[0m\n\u001b[1;32m    893\u001b[0m             \u001b[0;32mexcept\u001b[0m \u001b[0mKeyboardInterrupt\u001b[0m\u001b[0;34m:\u001b[0m\u001b[0;34m\u001b[0m\u001b[0;34m\u001b[0m\u001b[0m\n\u001b[1;32m    894\u001b[0m                 \u001b[0;31m# re-raise KeyboardInterrupt, to truncate traceback\u001b[0m\u001b[0;34m\u001b[0m\u001b[0;34m\u001b[0m\u001b[0m\n\u001b[0;32m--> 895\u001b[0;31m                 \u001b[0;32mraise\u001b[0m \u001b[0mKeyboardInterrupt\u001b[0m\u001b[0;34m(\u001b[0m\u001b[0;34m\"Interrupted by user\"\u001b[0m\u001b[0;34m)\u001b[0m \u001b[0;32mfrom\u001b[0m \u001b[0;32mNone\u001b[0m\u001b[0;34m\u001b[0m\u001b[0;34m\u001b[0m\u001b[0m\n\u001b[0m\u001b[1;32m    896\u001b[0m             \u001b[0;32mexcept\u001b[0m \u001b[0mException\u001b[0m \u001b[0;32mas\u001b[0m \u001b[0me\u001b[0m\u001b[0;34m:\u001b[0m\u001b[0;34m\u001b[0m\u001b[0;34m\u001b[0m\u001b[0m\n\u001b[1;32m    897\u001b[0m                 \u001b[0mself\u001b[0m\u001b[0;34m.\u001b[0m\u001b[0mlog\u001b[0m\u001b[0;34m.\u001b[0m\u001b[0mwarning\u001b[0m\u001b[0;34m(\u001b[0m\u001b[0;34m\"Invalid Message:\"\u001b[0m\u001b[0;34m,\u001b[0m \u001b[0mexc_info\u001b[0m\u001b[0;34m=\u001b[0m\u001b[0;32mTrue\u001b[0m\u001b[0;34m)\u001b[0m\u001b[0;34m\u001b[0m\u001b[0;34m\u001b[0m\u001b[0m\n",
            "\u001b[0;31mKeyboardInterrupt\u001b[0m: Interrupted by user"
          ]
        }
      ],
      "source": [
        "from pickle import dump, load\n",
        "\n",
        "\n",
        "def add_task(task):\n",
        "    todo_list.append(task)\n",
        "    print(\"Task added!\")\n",
        "\n",
        "\n",
        "def remove_task(task_num):\n",
        "    if 0 <= task_num < len(todo_list):\n",
        "        del todo_list[task_num]\n",
        "        print(\"Task removed!\")\n",
        "    else:\n",
        "        print(\"Invalid task number!\")\n",
        "\n",
        "\n",
        "def display_tasks():\n",
        "    if not todo_list:  # If list is empty\n",
        "        print(\"No tasks to display.\")\n",
        "    else:\n",
        "        for index, task in enumerate(todo_list, start=1):\n",
        "            print(f\"{index}. {task}\")\n",
        "\n",
        "\n",
        "def get_choice():\n",
        "    while True:\n",
        "        try:\n",
        "            choice = int(\n",
        "                input(\n",
        "                    \"Type a number: 1. Adding a task, 2. Removing a task, 3. Displaying tasks, 4. Quit: \"\n",
        "                )\n",
        "            )\n",
        "            if 1 <= choice <= 4:\n",
        "                return choice\n",
        "            else:\n",
        "                print(\"Invalid choice. Try again.\")\n",
        "        except ValueError:\n",
        "            print(\"Please enter a number between 1 and 4.\")\n",
        "\n",
        "\n",
        "if __name__ == \"__main__\":\n",
        "    # Loading the pickle file into python as a list\n",
        "    try:\n",
        "        with open(\"todo.pickle\", \"rb+\") as file_in:\n",
        "            todo_list = load(file_in)\n",
        "    except FileNotFoundError:\n",
        "        todo_list = []\n",
        "\n",
        "    print(\"Welcome to ToDo List!\")\n",
        "\n",
        "    while True:\n",
        "        user_choice = get_choice()\n",
        "\n",
        "        # Adding a task\n",
        "        if user_choice == 1:\n",
        "            new_task = input(\"Type a new task: \")\n",
        "            add_task(new_task)\n",
        "\n",
        "        # Removing a task\n",
        "        elif user_choice == 2:\n",
        "            if not todo_list:  # If list is empty\n",
        "                print(\"No tasks to remove.\")\n",
        "            else:\n",
        "                task_num = int(input(\"Enter the task number to delete: \")) - 1\n",
        "                remove_task(task_num)\n",
        "\n",
        "        # Displaying tasks\n",
        "        elif user_choice == 3:\n",
        "            display_tasks()\n",
        "\n",
        "        # Quit\n",
        "        elif user_choice == 4:\n",
        "            # Dumping the list into a pickle file\n",
        "            with open(\"todo.pickle\", \"wb\") as file_out:\n",
        "                dump(todo_list, file_out)\n",
        "            print(\"Goodbye!\")\n",
        "            break"
      ]
    }
  ],
  "metadata": {
    "colab": {
      "provenance": [],
      "authorship_tag": "ABX9TyM9+QZdn2ttZLoazB2hJSDU",
      "include_colab_link": true
    },
    "kernelspec": {
      "display_name": "Python 3",
      "name": "python3"
    },
    "language_info": {
      "name": "python"
    }
  },
  "nbformat": 4,
  "nbformat_minor": 0
}